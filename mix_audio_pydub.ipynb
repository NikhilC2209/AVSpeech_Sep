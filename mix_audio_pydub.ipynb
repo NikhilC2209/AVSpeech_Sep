{
 "cells": [
  {
   "cell_type": "code",
   "execution_count": 2,
   "id": "0db49d84",
   "metadata": {},
   "outputs": [
    {
     "name": "stdout",
     "output_type": "stream",
     "text": [
      "Collecting pydub\n",
      "  Downloading pydub-0.25.1-py2.py3-none-any.whl (32 kB)\n",
      "Installing collected packages: pydub\n",
      "Successfully installed pydub-0.25.1\n"
     ]
    },
    {
     "name": "stderr",
     "output_type": "stream",
     "text": [
      "WARNING: You are using pip version 22.0.4; however, version 23.3 is available.\n",
      "You should consider upgrading via the 'c:\\users\\nikhi\\anaconda3\\python.exe -m pip install --upgrade pip' command.\n"
     ]
    }
   ],
   "source": [
    "#!pip install pydub"
   ]
  },
  {
   "cell_type": "code",
   "execution_count": 1,
   "id": "82eec5c1",
   "metadata": {},
   "outputs": [
    {
     "data": {
      "text/plain": [
       "<_io.BufferedRandom name='sample_audio/mixed2.wav'>"
      ]
     },
     "execution_count": 1,
     "metadata": {},
     "output_type": "execute_result"
    }
   ],
   "source": [
    "from pydub import AudioSegment\n",
    "\n",
    "sound1 = AudioSegment.from_file(\"sample_audio/sample3.flac\")\n",
    "sound2 = AudioSegment.from_file(\"sample_audio/sample2.flac\")\n",
    "\n",
    "len1 = sound1.duration_seconds\n",
    "len2 = sound2.duration_seconds\n",
    "\n",
    "if len1>len2:\n",
    "    combined = sound1.overlay(sound2)\n",
    "else:\n",
    "    combined = sound2.overlay(sound1)\n",
    "\n",
    "combined.export(\"sample_audio/mixed2.wav\", format='wav')"
   ]
  },
  {
   "cell_type": "code",
   "execution_count": 31,
   "id": "18148167",
   "metadata": {},
   "outputs": [],
   "source": [
    "def mix_audio(sound1_path, sound2_path, out_path):\n",
    "    sound1 = AudioSegment.from_file(sound1_path)\n",
    "    sound2 = AudioSegment.from_file(sound2_path)\n",
    "\n",
    "    len1 = sound1.duration_seconds\n",
    "    len2 = sound2.duration_seconds\n",
    "\n",
    "    if len1>len2:\n",
    "        combined = sound1.overlay(sound2)\n",
    "    else:\n",
    "        combined = sound2.overlay(sound1) \n",
    "\n",
    "    sound1.export(f\"{out_path}/sound1.wav\", format='wav')\n",
    "    sound2.export(f\"{out_path}/sound2.wav\", format='wav')\n",
    "    combined.export(f\"{out_path}/mixed.wav\", format='wav')"
   ]
  },
  {
   "cell_type": "code",
   "execution_count": 32,
   "id": "78cf9a96",
   "metadata": {},
   "outputs": [],
   "source": [
    "s1_path = \"sample_audio/sample1.flac\"\n",
    "s2_path = \"sample_audio/sample2.flac\"\n",
    "out_path = \"sample_audio\"\n",
    "\n",
    "mix_audio(s1_path, s2_path, out_path)"
   ]
  },
  {
   "cell_type": "code",
   "execution_count": 4,
   "id": "e35e8998",
   "metadata": {},
   "outputs": [],
   "source": [
    "import os\n",
    "import glob\n",
    "\n",
    "LIBRI_DIR = r\"C:\\College\\Capstone\\AV Speech Separation\\data\\dev-clean\\LibriSpeech\" \n",
    "speakers_list = [x for x in glob.glob(os.path.join(LIBRI_DIR, 'dev-clean', '*'))]"
   ]
  },
  {
   "cell_type": "code",
   "execution_count": 5,
   "id": "6c7af6d5",
   "metadata": {},
   "outputs": [
    {
     "data": {
      "text/plain": [
       "['C:\\\\College\\\\Capstone\\\\AV Speech Separation\\\\data\\\\dev-clean\\\\LibriSpeech\\\\dev-clean\\\\1272',\n",
       " 'C:\\\\College\\\\Capstone\\\\AV Speech Separation\\\\data\\\\dev-clean\\\\LibriSpeech\\\\dev-clean\\\\1462',\n",
       " 'C:\\\\College\\\\Capstone\\\\AV Speech Separation\\\\data\\\\dev-clean\\\\LibriSpeech\\\\dev-clean\\\\1673',\n",
       " 'C:\\\\College\\\\Capstone\\\\AV Speech Separation\\\\data\\\\dev-clean\\\\LibriSpeech\\\\dev-clean\\\\174',\n",
       " 'C:\\\\College\\\\Capstone\\\\AV Speech Separation\\\\data\\\\dev-clean\\\\LibriSpeech\\\\dev-clean\\\\1919',\n",
       " 'C:\\\\College\\\\Capstone\\\\AV Speech Separation\\\\data\\\\dev-clean\\\\LibriSpeech\\\\dev-clean\\\\1988',\n",
       " 'C:\\\\College\\\\Capstone\\\\AV Speech Separation\\\\data\\\\dev-clean\\\\LibriSpeech\\\\dev-clean\\\\1993',\n",
       " 'C:\\\\College\\\\Capstone\\\\AV Speech Separation\\\\data\\\\dev-clean\\\\LibriSpeech\\\\dev-clean\\\\2035',\n",
       " 'C:\\\\College\\\\Capstone\\\\AV Speech Separation\\\\data\\\\dev-clean\\\\LibriSpeech\\\\dev-clean\\\\2078',\n",
       " 'C:\\\\College\\\\Capstone\\\\AV Speech Separation\\\\data\\\\dev-clean\\\\LibriSpeech\\\\dev-clean\\\\2086',\n",
       " 'C:\\\\College\\\\Capstone\\\\AV Speech Separation\\\\data\\\\dev-clean\\\\LibriSpeech\\\\dev-clean\\\\2277',\n",
       " 'C:\\\\College\\\\Capstone\\\\AV Speech Separation\\\\data\\\\dev-clean\\\\LibriSpeech\\\\dev-clean\\\\2412',\n",
       " 'C:\\\\College\\\\Capstone\\\\AV Speech Separation\\\\data\\\\dev-clean\\\\LibriSpeech\\\\dev-clean\\\\2428',\n",
       " 'C:\\\\College\\\\Capstone\\\\AV Speech Separation\\\\data\\\\dev-clean\\\\LibriSpeech\\\\dev-clean\\\\251',\n",
       " 'C:\\\\College\\\\Capstone\\\\AV Speech Separation\\\\data\\\\dev-clean\\\\LibriSpeech\\\\dev-clean\\\\2803',\n",
       " 'C:\\\\College\\\\Capstone\\\\AV Speech Separation\\\\data\\\\dev-clean\\\\LibriSpeech\\\\dev-clean\\\\2902',\n",
       " 'C:\\\\College\\\\Capstone\\\\AV Speech Separation\\\\data\\\\dev-clean\\\\LibriSpeech\\\\dev-clean\\\\3000',\n",
       " 'C:\\\\College\\\\Capstone\\\\AV Speech Separation\\\\data\\\\dev-clean\\\\LibriSpeech\\\\dev-clean\\\\3081',\n",
       " 'C:\\\\College\\\\Capstone\\\\AV Speech Separation\\\\data\\\\dev-clean\\\\LibriSpeech\\\\dev-clean\\\\3170',\n",
       " 'C:\\\\College\\\\Capstone\\\\AV Speech Separation\\\\data\\\\dev-clean\\\\LibriSpeech\\\\dev-clean\\\\3536',\n",
       " 'C:\\\\College\\\\Capstone\\\\AV Speech Separation\\\\data\\\\dev-clean\\\\LibriSpeech\\\\dev-clean\\\\3576',\n",
       " 'C:\\\\College\\\\Capstone\\\\AV Speech Separation\\\\data\\\\dev-clean\\\\LibriSpeech\\\\dev-clean\\\\3752',\n",
       " 'C:\\\\College\\\\Capstone\\\\AV Speech Separation\\\\data\\\\dev-clean\\\\LibriSpeech\\\\dev-clean\\\\3853',\n",
       " 'C:\\\\College\\\\Capstone\\\\AV Speech Separation\\\\data\\\\dev-clean\\\\LibriSpeech\\\\dev-clean\\\\422',\n",
       " 'C:\\\\College\\\\Capstone\\\\AV Speech Separation\\\\data\\\\dev-clean\\\\LibriSpeech\\\\dev-clean\\\\5338',\n",
       " 'C:\\\\College\\\\Capstone\\\\AV Speech Separation\\\\data\\\\dev-clean\\\\LibriSpeech\\\\dev-clean\\\\5536',\n",
       " 'C:\\\\College\\\\Capstone\\\\AV Speech Separation\\\\data\\\\dev-clean\\\\LibriSpeech\\\\dev-clean\\\\5694',\n",
       " 'C:\\\\College\\\\Capstone\\\\AV Speech Separation\\\\data\\\\dev-clean\\\\LibriSpeech\\\\dev-clean\\\\5895',\n",
       " 'C:\\\\College\\\\Capstone\\\\AV Speech Separation\\\\data\\\\dev-clean\\\\LibriSpeech\\\\dev-clean\\\\6241',\n",
       " 'C:\\\\College\\\\Capstone\\\\AV Speech Separation\\\\data\\\\dev-clean\\\\LibriSpeech\\\\dev-clean\\\\6295',\n",
       " 'C:\\\\College\\\\Capstone\\\\AV Speech Separation\\\\data\\\\dev-clean\\\\LibriSpeech\\\\dev-clean\\\\6313',\n",
       " 'C:\\\\College\\\\Capstone\\\\AV Speech Separation\\\\data\\\\dev-clean\\\\LibriSpeech\\\\dev-clean\\\\6319',\n",
       " 'C:\\\\College\\\\Capstone\\\\AV Speech Separation\\\\data\\\\dev-clean\\\\LibriSpeech\\\\dev-clean\\\\6345',\n",
       " 'C:\\\\College\\\\Capstone\\\\AV Speech Separation\\\\data\\\\dev-clean\\\\LibriSpeech\\\\dev-clean\\\\652',\n",
       " 'C:\\\\College\\\\Capstone\\\\AV Speech Separation\\\\data\\\\dev-clean\\\\LibriSpeech\\\\dev-clean\\\\777',\n",
       " 'C:\\\\College\\\\Capstone\\\\AV Speech Separation\\\\data\\\\dev-clean\\\\LibriSpeech\\\\dev-clean\\\\7850',\n",
       " 'C:\\\\College\\\\Capstone\\\\AV Speech Separation\\\\data\\\\dev-clean\\\\LibriSpeech\\\\dev-clean\\\\7976',\n",
       " 'C:\\\\College\\\\Capstone\\\\AV Speech Separation\\\\data\\\\dev-clean\\\\LibriSpeech\\\\dev-clean\\\\8297',\n",
       " 'C:\\\\College\\\\Capstone\\\\AV Speech Separation\\\\data\\\\dev-clean\\\\LibriSpeech\\\\dev-clean\\\\84',\n",
       " 'C:\\\\College\\\\Capstone\\\\AV Speech Separation\\\\data\\\\dev-clean\\\\LibriSpeech\\\\dev-clean\\\\8842']"
      ]
     },
     "execution_count": 5,
     "metadata": {},
     "output_type": "execute_result"
    }
   ],
   "source": [
    "speakers_list"
   ]
  },
  {
   "cell_type": "code",
   "execution_count": 16,
   "id": "e7a02fe4",
   "metadata": {},
   "outputs": [
    {
     "data": {
      "text/plain": [
       "40"
      ]
     },
     "execution_count": 16,
     "metadata": {},
     "output_type": "execute_result"
    }
   ],
   "source": [
    "len(speakers_list)"
   ]
  },
  {
   "cell_type": "code",
   "execution_count": 6,
   "id": "24913586",
   "metadata": {},
   "outputs": [],
   "source": [
    "spk_audio_list = glob.glob(os.path.join(speakers_list[0], '**', '*.flac'), recursive=True)"
   ]
  },
  {
   "cell_type": "code",
   "execution_count": 7,
   "id": "eb386048",
   "metadata": {},
   "outputs": [
    {
     "data": {
      "text/plain": [
       "['C:\\\\College\\\\Capstone\\\\AV Speech Separation\\\\data\\\\dev-clean\\\\LibriSpeech\\\\dev-clean\\\\1272\\\\128104\\\\1272-128104-0000.flac',\n",
       " 'C:\\\\College\\\\Capstone\\\\AV Speech Separation\\\\data\\\\dev-clean\\\\LibriSpeech\\\\dev-clean\\\\1272\\\\128104\\\\1272-128104-0001.flac',\n",
       " 'C:\\\\College\\\\Capstone\\\\AV Speech Separation\\\\data\\\\dev-clean\\\\LibriSpeech\\\\dev-clean\\\\1272\\\\128104\\\\1272-128104-0002.flac',\n",
       " 'C:\\\\College\\\\Capstone\\\\AV Speech Separation\\\\data\\\\dev-clean\\\\LibriSpeech\\\\dev-clean\\\\1272\\\\128104\\\\1272-128104-0003.flac',\n",
       " 'C:\\\\College\\\\Capstone\\\\AV Speech Separation\\\\data\\\\dev-clean\\\\LibriSpeech\\\\dev-clean\\\\1272\\\\128104\\\\1272-128104-0004.flac',\n",
       " 'C:\\\\College\\\\Capstone\\\\AV Speech Separation\\\\data\\\\dev-clean\\\\LibriSpeech\\\\dev-clean\\\\1272\\\\128104\\\\1272-128104-0005.flac',\n",
       " 'C:\\\\College\\\\Capstone\\\\AV Speech Separation\\\\data\\\\dev-clean\\\\LibriSpeech\\\\dev-clean\\\\1272\\\\128104\\\\1272-128104-0006.flac',\n",
       " 'C:\\\\College\\\\Capstone\\\\AV Speech Separation\\\\data\\\\dev-clean\\\\LibriSpeech\\\\dev-clean\\\\1272\\\\128104\\\\1272-128104-0007.flac',\n",
       " 'C:\\\\College\\\\Capstone\\\\AV Speech Separation\\\\data\\\\dev-clean\\\\LibriSpeech\\\\dev-clean\\\\1272\\\\128104\\\\1272-128104-0008.flac',\n",
       " 'C:\\\\College\\\\Capstone\\\\AV Speech Separation\\\\data\\\\dev-clean\\\\LibriSpeech\\\\dev-clean\\\\1272\\\\128104\\\\1272-128104-0009.flac',\n",
       " 'C:\\\\College\\\\Capstone\\\\AV Speech Separation\\\\data\\\\dev-clean\\\\LibriSpeech\\\\dev-clean\\\\1272\\\\128104\\\\1272-128104-0010.flac',\n",
       " 'C:\\\\College\\\\Capstone\\\\AV Speech Separation\\\\data\\\\dev-clean\\\\LibriSpeech\\\\dev-clean\\\\1272\\\\128104\\\\1272-128104-0011.flac',\n",
       " 'C:\\\\College\\\\Capstone\\\\AV Speech Separation\\\\data\\\\dev-clean\\\\LibriSpeech\\\\dev-clean\\\\1272\\\\128104\\\\1272-128104-0012.flac',\n",
       " 'C:\\\\College\\\\Capstone\\\\AV Speech Separation\\\\data\\\\dev-clean\\\\LibriSpeech\\\\dev-clean\\\\1272\\\\128104\\\\1272-128104-0013.flac',\n",
       " 'C:\\\\College\\\\Capstone\\\\AV Speech Separation\\\\data\\\\dev-clean\\\\LibriSpeech\\\\dev-clean\\\\1272\\\\128104\\\\1272-128104-0014.flac',\n",
       " 'C:\\\\College\\\\Capstone\\\\AV Speech Separation\\\\data\\\\dev-clean\\\\LibriSpeech\\\\dev-clean\\\\1272\\\\135031\\\\1272-135031-0000.flac',\n",
       " 'C:\\\\College\\\\Capstone\\\\AV Speech Separation\\\\data\\\\dev-clean\\\\LibriSpeech\\\\dev-clean\\\\1272\\\\135031\\\\1272-135031-0001.flac',\n",
       " 'C:\\\\College\\\\Capstone\\\\AV Speech Separation\\\\data\\\\dev-clean\\\\LibriSpeech\\\\dev-clean\\\\1272\\\\135031\\\\1272-135031-0002.flac',\n",
       " 'C:\\\\College\\\\Capstone\\\\AV Speech Separation\\\\data\\\\dev-clean\\\\LibriSpeech\\\\dev-clean\\\\1272\\\\135031\\\\1272-135031-0003.flac',\n",
       " 'C:\\\\College\\\\Capstone\\\\AV Speech Separation\\\\data\\\\dev-clean\\\\LibriSpeech\\\\dev-clean\\\\1272\\\\135031\\\\1272-135031-0004.flac',\n",
       " 'C:\\\\College\\\\Capstone\\\\AV Speech Separation\\\\data\\\\dev-clean\\\\LibriSpeech\\\\dev-clean\\\\1272\\\\135031\\\\1272-135031-0005.flac',\n",
       " 'C:\\\\College\\\\Capstone\\\\AV Speech Separation\\\\data\\\\dev-clean\\\\LibriSpeech\\\\dev-clean\\\\1272\\\\135031\\\\1272-135031-0006.flac',\n",
       " 'C:\\\\College\\\\Capstone\\\\AV Speech Separation\\\\data\\\\dev-clean\\\\LibriSpeech\\\\dev-clean\\\\1272\\\\135031\\\\1272-135031-0007.flac',\n",
       " 'C:\\\\College\\\\Capstone\\\\AV Speech Separation\\\\data\\\\dev-clean\\\\LibriSpeech\\\\dev-clean\\\\1272\\\\135031\\\\1272-135031-0008.flac',\n",
       " 'C:\\\\College\\\\Capstone\\\\AV Speech Separation\\\\data\\\\dev-clean\\\\LibriSpeech\\\\dev-clean\\\\1272\\\\135031\\\\1272-135031-0009.flac',\n",
       " 'C:\\\\College\\\\Capstone\\\\AV Speech Separation\\\\data\\\\dev-clean\\\\LibriSpeech\\\\dev-clean\\\\1272\\\\135031\\\\1272-135031-0010.flac',\n",
       " 'C:\\\\College\\\\Capstone\\\\AV Speech Separation\\\\data\\\\dev-clean\\\\LibriSpeech\\\\dev-clean\\\\1272\\\\135031\\\\1272-135031-0011.flac',\n",
       " 'C:\\\\College\\\\Capstone\\\\AV Speech Separation\\\\data\\\\dev-clean\\\\LibriSpeech\\\\dev-clean\\\\1272\\\\135031\\\\1272-135031-0012.flac',\n",
       " 'C:\\\\College\\\\Capstone\\\\AV Speech Separation\\\\data\\\\dev-clean\\\\LibriSpeech\\\\dev-clean\\\\1272\\\\135031\\\\1272-135031-0013.flac',\n",
       " 'C:\\\\College\\\\Capstone\\\\AV Speech Separation\\\\data\\\\dev-clean\\\\LibriSpeech\\\\dev-clean\\\\1272\\\\135031\\\\1272-135031-0014.flac',\n",
       " 'C:\\\\College\\\\Capstone\\\\AV Speech Separation\\\\data\\\\dev-clean\\\\LibriSpeech\\\\dev-clean\\\\1272\\\\135031\\\\1272-135031-0015.flac',\n",
       " 'C:\\\\College\\\\Capstone\\\\AV Speech Separation\\\\data\\\\dev-clean\\\\LibriSpeech\\\\dev-clean\\\\1272\\\\135031\\\\1272-135031-0016.flac',\n",
       " 'C:\\\\College\\\\Capstone\\\\AV Speech Separation\\\\data\\\\dev-clean\\\\LibriSpeech\\\\dev-clean\\\\1272\\\\135031\\\\1272-135031-0017.flac',\n",
       " 'C:\\\\College\\\\Capstone\\\\AV Speech Separation\\\\data\\\\dev-clean\\\\LibriSpeech\\\\dev-clean\\\\1272\\\\135031\\\\1272-135031-0018.flac',\n",
       " 'C:\\\\College\\\\Capstone\\\\AV Speech Separation\\\\data\\\\dev-clean\\\\LibriSpeech\\\\dev-clean\\\\1272\\\\135031\\\\1272-135031-0019.flac',\n",
       " 'C:\\\\College\\\\Capstone\\\\AV Speech Separation\\\\data\\\\dev-clean\\\\LibriSpeech\\\\dev-clean\\\\1272\\\\135031\\\\1272-135031-0020.flac',\n",
       " 'C:\\\\College\\\\Capstone\\\\AV Speech Separation\\\\data\\\\dev-clean\\\\LibriSpeech\\\\dev-clean\\\\1272\\\\135031\\\\1272-135031-0021.flac',\n",
       " 'C:\\\\College\\\\Capstone\\\\AV Speech Separation\\\\data\\\\dev-clean\\\\LibriSpeech\\\\dev-clean\\\\1272\\\\135031\\\\1272-135031-0022.flac',\n",
       " 'C:\\\\College\\\\Capstone\\\\AV Speech Separation\\\\data\\\\dev-clean\\\\LibriSpeech\\\\dev-clean\\\\1272\\\\135031\\\\1272-135031-0023.flac',\n",
       " 'C:\\\\College\\\\Capstone\\\\AV Speech Separation\\\\data\\\\dev-clean\\\\LibriSpeech\\\\dev-clean\\\\1272\\\\135031\\\\1272-135031-0024.flac',\n",
       " 'C:\\\\College\\\\Capstone\\\\AV Speech Separation\\\\data\\\\dev-clean\\\\LibriSpeech\\\\dev-clean\\\\1272\\\\141231\\\\1272-141231-0000.flac',\n",
       " 'C:\\\\College\\\\Capstone\\\\AV Speech Separation\\\\data\\\\dev-clean\\\\LibriSpeech\\\\dev-clean\\\\1272\\\\141231\\\\1272-141231-0001.flac',\n",
       " 'C:\\\\College\\\\Capstone\\\\AV Speech Separation\\\\data\\\\dev-clean\\\\LibriSpeech\\\\dev-clean\\\\1272\\\\141231\\\\1272-141231-0002.flac',\n",
       " 'C:\\\\College\\\\Capstone\\\\AV Speech Separation\\\\data\\\\dev-clean\\\\LibriSpeech\\\\dev-clean\\\\1272\\\\141231\\\\1272-141231-0003.flac',\n",
       " 'C:\\\\College\\\\Capstone\\\\AV Speech Separation\\\\data\\\\dev-clean\\\\LibriSpeech\\\\dev-clean\\\\1272\\\\141231\\\\1272-141231-0004.flac',\n",
       " 'C:\\\\College\\\\Capstone\\\\AV Speech Separation\\\\data\\\\dev-clean\\\\LibriSpeech\\\\dev-clean\\\\1272\\\\141231\\\\1272-141231-0005.flac',\n",
       " 'C:\\\\College\\\\Capstone\\\\AV Speech Separation\\\\data\\\\dev-clean\\\\LibriSpeech\\\\dev-clean\\\\1272\\\\141231\\\\1272-141231-0006.flac',\n",
       " 'C:\\\\College\\\\Capstone\\\\AV Speech Separation\\\\data\\\\dev-clean\\\\LibriSpeech\\\\dev-clean\\\\1272\\\\141231\\\\1272-141231-0007.flac',\n",
       " 'C:\\\\College\\\\Capstone\\\\AV Speech Separation\\\\data\\\\dev-clean\\\\LibriSpeech\\\\dev-clean\\\\1272\\\\141231\\\\1272-141231-0008.flac',\n",
       " 'C:\\\\College\\\\Capstone\\\\AV Speech Separation\\\\data\\\\dev-clean\\\\LibriSpeech\\\\dev-clean\\\\1272\\\\141231\\\\1272-141231-0009.flac',\n",
       " 'C:\\\\College\\\\Capstone\\\\AV Speech Separation\\\\data\\\\dev-clean\\\\LibriSpeech\\\\dev-clean\\\\1272\\\\141231\\\\1272-141231-0010.flac',\n",
       " 'C:\\\\College\\\\Capstone\\\\AV Speech Separation\\\\data\\\\dev-clean\\\\LibriSpeech\\\\dev-clean\\\\1272\\\\141231\\\\1272-141231-0011.flac',\n",
       " 'C:\\\\College\\\\Capstone\\\\AV Speech Separation\\\\data\\\\dev-clean\\\\LibriSpeech\\\\dev-clean\\\\1272\\\\141231\\\\1272-141231-0012.flac',\n",
       " 'C:\\\\College\\\\Capstone\\\\AV Speech Separation\\\\data\\\\dev-clean\\\\LibriSpeech\\\\dev-clean\\\\1272\\\\141231\\\\1272-141231-0013.flac',\n",
       " 'C:\\\\College\\\\Capstone\\\\AV Speech Separation\\\\data\\\\dev-clean\\\\LibriSpeech\\\\dev-clean\\\\1272\\\\141231\\\\1272-141231-0014.flac',\n",
       " 'C:\\\\College\\\\Capstone\\\\AV Speech Separation\\\\data\\\\dev-clean\\\\LibriSpeech\\\\dev-clean\\\\1272\\\\141231\\\\1272-141231-0015.flac',\n",
       " 'C:\\\\College\\\\Capstone\\\\AV Speech Separation\\\\data\\\\dev-clean\\\\LibriSpeech\\\\dev-clean\\\\1272\\\\141231\\\\1272-141231-0016.flac',\n",
       " 'C:\\\\College\\\\Capstone\\\\AV Speech Separation\\\\data\\\\dev-clean\\\\LibriSpeech\\\\dev-clean\\\\1272\\\\141231\\\\1272-141231-0017.flac',\n",
       " 'C:\\\\College\\\\Capstone\\\\AV Speech Separation\\\\data\\\\dev-clean\\\\LibriSpeech\\\\dev-clean\\\\1272\\\\141231\\\\1272-141231-0018.flac',\n",
       " 'C:\\\\College\\\\Capstone\\\\AV Speech Separation\\\\data\\\\dev-clean\\\\LibriSpeech\\\\dev-clean\\\\1272\\\\141231\\\\1272-141231-0019.flac',\n",
       " 'C:\\\\College\\\\Capstone\\\\AV Speech Separation\\\\data\\\\dev-clean\\\\LibriSpeech\\\\dev-clean\\\\1272\\\\141231\\\\1272-141231-0020.flac',\n",
       " 'C:\\\\College\\\\Capstone\\\\AV Speech Separation\\\\data\\\\dev-clean\\\\LibriSpeech\\\\dev-clean\\\\1272\\\\141231\\\\1272-141231-0021.flac',\n",
       " 'C:\\\\College\\\\Capstone\\\\AV Speech Separation\\\\data\\\\dev-clean\\\\LibriSpeech\\\\dev-clean\\\\1272\\\\141231\\\\1272-141231-0022.flac',\n",
       " 'C:\\\\College\\\\Capstone\\\\AV Speech Separation\\\\data\\\\dev-clean\\\\LibriSpeech\\\\dev-clean\\\\1272\\\\141231\\\\1272-141231-0023.flac',\n",
       " 'C:\\\\College\\\\Capstone\\\\AV Speech Separation\\\\data\\\\dev-clean\\\\LibriSpeech\\\\dev-clean\\\\1272\\\\141231\\\\1272-141231-0024.flac',\n",
       " 'C:\\\\College\\\\Capstone\\\\AV Speech Separation\\\\data\\\\dev-clean\\\\LibriSpeech\\\\dev-clean\\\\1272\\\\141231\\\\1272-141231-0025.flac',\n",
       " 'C:\\\\College\\\\Capstone\\\\AV Speech Separation\\\\data\\\\dev-clean\\\\LibriSpeech\\\\dev-clean\\\\1272\\\\141231\\\\1272-141231-0026.flac',\n",
       " 'C:\\\\College\\\\Capstone\\\\AV Speech Separation\\\\data\\\\dev-clean\\\\LibriSpeech\\\\dev-clean\\\\1272\\\\141231\\\\1272-141231-0027.flac',\n",
       " 'C:\\\\College\\\\Capstone\\\\AV Speech Separation\\\\data\\\\dev-clean\\\\LibriSpeech\\\\dev-clean\\\\1272\\\\141231\\\\1272-141231-0028.flac',\n",
       " 'C:\\\\College\\\\Capstone\\\\AV Speech Separation\\\\data\\\\dev-clean\\\\LibriSpeech\\\\dev-clean\\\\1272\\\\141231\\\\1272-141231-0029.flac',\n",
       " 'C:\\\\College\\\\Capstone\\\\AV Speech Separation\\\\data\\\\dev-clean\\\\LibriSpeech\\\\dev-clean\\\\1272\\\\141231\\\\1272-141231-0030.flac',\n",
       " 'C:\\\\College\\\\Capstone\\\\AV Speech Separation\\\\data\\\\dev-clean\\\\LibriSpeech\\\\dev-clean\\\\1272\\\\141231\\\\1272-141231-0031.flac',\n",
       " 'C:\\\\College\\\\Capstone\\\\AV Speech Separation\\\\data\\\\dev-clean\\\\LibriSpeech\\\\dev-clean\\\\1272\\\\141231\\\\1272-141231-0032.flac']"
      ]
     },
     "execution_count": 7,
     "metadata": {},
     "output_type": "execute_result"
    }
   ],
   "source": [
    "spk_audio_list"
   ]
  },
  {
   "cell_type": "code",
   "execution_count": 43,
   "id": "abd808d5",
   "metadata": {},
   "outputs": [],
   "source": [
    "import random\n",
    "\n",
    "def gen_syn_audio_mix(speakers_list):\n",
    "    \n",
    "    out_path = \"test_audio\"\n",
    "    \n",
    "    for i in range(0, len(speakers_list)-1):\n",
    "        spk_num_1 = speakers_list[i].split(\"\\\\\")[-1]\n",
    "        spk_num_2 = speakers_list[i+1].split(\"\\\\\")[-1]\n",
    "        \n",
    "        # Store all audio file paths into a list for 2 speakers at a time\n",
    "        \n",
    "        spk_1_list = glob.glob(os.path.join(speakers_list[i], '**', '*.flac'), recursive=True)\n",
    "        spk_2_list = glob.glob(os.path.join(speakers_list[i+1], '**', '*.flac'), recursive=True)\n",
    "        \n",
    "        # Random sample 5 audio files\n",
    "        \n",
    "        spk_1_list = random.sample(spk_1_list, 5)\n",
    "        spk_2_list = random.sample(spk_2_list, 5)\n",
    "        \n",
    "        #for x,y in zip(spk_1_list, spk_2_list):\n",
    "        for i in range(len(spk_1_list)):\n",
    "            \n",
    "            x = spk_1_list[i] \n",
    "            y = spk_2_list[i]\n",
    "            \n",
    "            # Output folder name = spk1_audio_name + \"_\" +spk2_audio_name\n",
    "            \n",
    "            folder_name = (x.split(\"\\\\\")[-1]).split(\".\")[0] + '_' + (y.split(\"\\\\\")[-1]).split(\".\")[0]\n",
    "            out_folder = os.path.join(out_path, folder_name)\n",
    "            os.mkdir(out_folder)\n",
    "            \n",
    "            mix_audio(x,y,out_folder)\n"
   ]
  },
  {
   "cell_type": "code",
   "execution_count": 44,
   "id": "d83d5a8a",
   "metadata": {},
   "outputs": [],
   "source": [
    "gen_syn_audio_mix(speakers_list)"
   ]
  }
 ],
 "metadata": {
  "kernelspec": {
   "display_name": "Python 3",
   "language": "python",
   "name": "python3"
  },
  "language_info": {
   "codemirror_mode": {
    "name": "ipython",
    "version": 3
   },
   "file_extension": ".py",
   "mimetype": "text/x-python",
   "name": "python",
   "nbconvert_exporter": "python",
   "pygments_lexer": "ipython3",
   "version": "3.8.8"
  }
 },
 "nbformat": 4,
 "nbformat_minor": 5
}
